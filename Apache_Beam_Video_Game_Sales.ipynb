{
 "cells": [
  {
   "cell_type": "markdown",
   "id": "abd56bbc",
   "metadata": {},
   "source": [
    "# Apache Beam on Video Game Sales Dataset"
   ]
  },
  {
   "cell_type": "markdown",
   "id": "674459ed",
   "metadata": {},
   "source": [
    "## Setting Up and Running a Simple Apache Beam Pipeline"
   ]
  },
  {
   "cell_type": "code",
   "execution_count": null,
   "id": "79899ec9",
   "metadata": {},
   "outputs": [],
   "source": [
    "\n",
    "# Install Apache Beam if not already installed\n",
    "!pip install -q apache-beam\n",
    "\n",
    "import apache_beam as beam\n",
    "from apache_beam.options.pipeline_options import PipelineOptions\n",
    "\n",
    "# Sample data to simulate streaming input\n",
    "sample_data = [\n",
    "    {'Name': 'Wii Sports', 'Platform': 'Wii', 'Year': 2006, 'Genre': 'Sports', 'Global_Sales': 82.74},\n",
    "    {'Name': 'Super Mario Bros.', 'Platform': 'NES', 'Year': 1985, 'Genre': 'Platform', 'Global_Sales': 40.24},\n",
    "    {'Name': 'Mario Kart Wii', 'Platform': 'Wii', 'Year': 2008, 'Genre': 'Racing', 'Global_Sales': 35.82},\n",
    "    {'Name': 'Wii Sports Resort', 'Platform': 'Wii', 'Year': 2009, 'Genre': 'Sports', 'Global_Sales': 33.00},\n",
    "    {'Name': 'Pokemon Red/Pokemon Blue', 'Platform': 'GB', 'Year': 1996, 'Genre': 'Role-Playing', 'Global_Sales': 31.37}\n",
    "]\n",
    "\n",
    "# Define a simple Apache Beam pipeline with ParDo, Windowing, and Composite Transform\n",
    "class ParseGameData(beam.DoFn):\n",
    "    def process(self, element):\n",
    "        yield element\n",
    "\n",
    "class FilterBySales(beam.PTransform):\n",
    "    def expand(self, pcoll):\n",
    "        return (pcoll\n",
    "                | 'FilterHighSales' >> beam.Filter(lambda x: x['Global_Sales'] > 30))\n",
    "\n",
    "def run_pipeline():\n",
    "    # Create a PipelineOptions object\n",
    "    options = PipelineOptions(flags=[], runner='DirectRunner')\n",
    "    with beam.Pipeline(options=options) as p:\n",
    "        # Create a PCollection from the sample data\n",
    "        games = (p | 'CreateSampleData' >> beam.Create(sample_data)\n",
    "                  | 'ParseGameData' >> beam.ParDo(ParseGameData()))\n",
    "\n",
    "        # Apply a composite transform\n",
    "        filtered_games = games | 'ApplyFilter' >> FilterBySales()\n",
    "\n",
    "        # Write output to text file\n",
    "        filtered_games | 'WriteOutput' >> beam.io.WriteToText('filtered_games.txt')\n",
    "\n",
    "run_pipeline()\n"
   ]
  },
  {
   "cell_type": "markdown",
   "id": "98aa542a",
   "metadata": {},
   "source": [
    "## Applying Windowing and Triggers in Apache Beam"
   ]
  },
  {
   "cell_type": "code",
   "execution_count": null,
   "id": "96f42320",
   "metadata": {},
   "outputs": [],
   "source": [
    "\n",
    "from apache_beam.transforms.window import FixedWindows\n",
    "from apache_beam.transforms.trigger import AfterProcessingTime, AccumulationMode\n",
    "\n",
    "def run_windowed_pipeline():\n",
    "    options = PipelineOptions(flags=[], runner='DirectRunner')\n",
    "    with beam.Pipeline(options=options) as p:\n",
    "        # Windowing and trigger example\n",
    "        windowed_data = (p\n",
    "                         | 'CreateSampleData' >> beam.Create(sample_data)\n",
    "                         | 'WindowIntoFixedWindows' >> beam.WindowInto(FixedWindows(60),\n",
    "                                                                        trigger=AfterProcessingTime(30),\n",
    "                                                                        accumulation_mode=AccumulationMode.DISCARDING)\n",
    "                         | 'ParseGameData' >> beam.ParDo(ParseGameData()))\n",
    "\n",
    "        windowed_data | 'WriteWindowedOutput' >> beam.io.WriteToText('windowed_output.txt')\n",
    "\n",
    "run_windowed_pipeline()\n"
   ]
  },
  {
   "cell_type": "markdown",
   "id": "37ea4ecf",
   "metadata": {},
   "source": [
    "## Streaming Simulation Example"
   ]
  },
  {
   "cell_type": "code",
   "execution_count": null,
   "id": "630ad0e7",
   "metadata": {},
   "outputs": [],
   "source": [
    "# Add a streaming simulation example using the DirectRunner and unbounded PCollections."
   ]
  }
 ],
 "metadata": {},
 "nbformat": 4,
 "nbformat_minor": 5
}
